{
 "cells": [
  {
   "cell_type": "markdown",
   "id": "fb1ac68c",
   "metadata": {},
   "source": [
    "**Refer to dataset_processing/process_yolo.ipynb for YOLO preprocessing code**"
   ]
  },
  {
   "cell_type": "code",
   "execution_count": null,
   "id": "bcfe407a-6294-4c71-8d22-e9d7ca116804",
   "metadata": {},
   "outputs": [],
   "source": [
    "!pip install -q ultralytics"
   ]
  },
  {
   "cell_type": "code",
   "execution_count": null,
   "id": "7d77b82d-d9aa-450b-9217-150c21779b35",
   "metadata": {},
   "outputs": [],
   "source": [
    "from ultralytics import YOLO"
   ]
  },
  {
   "cell_type": "code",
   "execution_count": null,
   "id": "1c6878fd-d104-48bf-9ede-ffffaad9f6a0",
   "metadata": {},
   "outputs": [],
   "source": [
    "!unzip -q yolo_single_class.zip -d yolo_single_class/"
   ]
  },
  {
   "cell_type": "code",
   "execution_count": null,
   "id": "fd075d5b-9b9b-4a4d-a5a8-34ad66e453f9",
   "metadata": {},
   "outputs": [],
   "source": [
    "model = YOLO(\"yolo11x-obb.pt\")"
   ]
  },
  {
   "cell_type": "markdown",
   "id": "63680b01",
   "metadata": {},
   "source": [
    "train"
   ]
  },
  {
   "cell_type": "code",
   "execution_count": null,
   "id": "9bc79aa9-23ff-4b18-a8ea-36dc909a3a8a",
   "metadata": {},
   "outputs": [],
   "source": [
    "results = model.train(data=\"yolo_single_class/yolo_single_class.yaml\", epochs=100, imgsz=640)"
   ]
  },
  {
   "cell_type": "markdown",
   "id": "90a39413",
   "metadata": {},
   "source": [
    "val"
   ]
  },
  {
   "cell_type": "code",
   "execution_count": null,
   "id": "6f4f1170-f45e-4dd8-8d9b-bd20916ca8f8",
   "metadata": {},
   "outputs": [],
   "source": [
    "metrics = model.val(data=\"yolo_single_class/yolo_single_class.yaml\")\n",
    "\n",
    "# Access various metrics\n",
    "map50_95 = metrics.box.map  # mAP@[0.5:0.95]\n",
    "map50 = metrics.box.map50  # mAP@0.5\n",
    "map75 = metrics.box.map75  # mAP@0.75\n",
    "category_maps = metrics.box.maps  # List of mAP@[0.5:0.95] for each category\n",
    "\n",
    "# Access precision, recall, and other metrics\n",
    "precision = metrics.box.mp  # Precision\n",
    "recall = metrics.box.mr  # Recall\n",
    "\n",
    "print(f\"mAP@[0.5:0.95]: {map50_95}, mAP@0.5: {map50}, mAP@0.75: {map75}, category mAPs: {category_maps}, Precision: {precision}, Recall: {recall}\")"
   ]
  },
  {
   "cell_type": "markdown",
   "id": "5c73c7c3",
   "metadata": {},
   "source": [
    "test"
   ]
  },
  {
   "cell_type": "code",
   "execution_count": null,
   "id": "1a0135c4-740b-46c2-9252-aaeaf268fcc9",
   "metadata": {},
   "outputs": [],
   "source": [
    "metrics = model.val(data=\"yolo_single_class/yolo_single_class.yaml\", split=\"test\")\n",
    "\n",
    "# Access various metrics\n",
    "map50_95 = metrics.box.map  # mAP@[0.5:0.95]\n",
    "map50 = metrics.box.map50  # mAP@0.5\n",
    "map75 = metrics.box.map75  # mAP@0.75\n",
    "category_maps = metrics.box.maps  # List of mAP@[0.5:0.95] for each category\n",
    "\n",
    "# Access precision, recall, and other metrics\n",
    "precision = metrics.box.mp  # Precision\n",
    "recall = metrics.box.mr  # Recall\n",
    "\n",
    "print(f\"mAP@[0.5:0.95]: {map50_95}, mAP@0.5: {map50}, mAP@0.75: {map75}, category mAPs: {category_maps}, Precision: {precision}, Recall: {recall}\")"
   ]
  },
  {
   "cell_type": "markdown",
   "id": "6c4666c4",
   "metadata": {},
   "source": [
    "pred"
   ]
  },
  {
   "cell_type": "code",
   "execution_count": null,
   "id": "e8b8f001-4a04-4bae-a4fa-fb53f0163676",
   "metadata": {},
   "outputs": [],
   "source": [
    "# # model = YOLO(\"runs/obb/train3/weights/best.pt\")\n",
    "# results = model.predict(\"pred.jpg\")"
   ]
  }
 ],
 "metadata": {
  "kernelspec": {
   "display_name": "Python 3 (ipykernel)",
   "language": "python",
   "name": "python3"
  },
  "language_info": {
   "codemirror_mode": {
    "name": "ipython",
    "version": 3
   },
   "file_extension": ".py",
   "mimetype": "text/x-python",
   "name": "python",
   "nbconvert_exporter": "python",
   "pygments_lexer": "ipython3",
   "version": "3.12.10"
  }
 },
 "nbformat": 4,
 "nbformat_minor": 5
}
