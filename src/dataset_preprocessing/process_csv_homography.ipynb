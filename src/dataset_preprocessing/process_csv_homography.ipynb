{
 "cells": [
  {
   "cell_type": "code",
   "execution_count": null,
   "metadata": {},
   "outputs": [],
   "source": [
    "import pandas as pd\n",
    "import numpy as np\n",
    "import matplotlib.pyplot as plt\n",
    "import cv2"
   ]
  },
  {
   "cell_type": "markdown",
   "metadata": {},
   "source": [
    "Extract oriented bounding box (individual tooth) from the radiograph"
   ]
  },
  {
   "cell_type": "code",
   "execution_count": null,
   "metadata": {},
   "outputs": [],
   "source": [
    "def get_sub_image(image, x, y, width, height, rotation):\n",
    "    \"\"\"Extracts & transforms the rotated bounding box of the input image to a vertical subimage.\"\"\"\n",
    "    rotation *= -1  # Reverse the rotation direction\n",
    "    original_height, original_width = image.shape[:2] # Get the image's original width and height\n",
    "    \n",
    "    # Inputs x (xmin), y (ymin), width, height are in percentage values\n",
    "    # Convert the percentage values to pixel values\n",
    "    pixel_x = x / 100.0 * original_width\n",
    "    pixel_y = y / 100.0 * original_height\n",
    "    pixel_width = width / 100.0 * original_width\n",
    "    pixel_height = height / 100.0 * original_height\n",
    "\n",
    "    # Calculate the center of the bounding box\n",
    "    center_x = pixel_x + pixel_width / 2\n",
    "    center_y = pixel_y + pixel_height / 2\n",
    "\n",
    "    rotation_matrix = np.array([\n",
    "        [np.cos(np.radians(rotation)), -np.sin(np.radians(rotation)), 0],\n",
    "        [np.sin(np.radians(rotation)), np.cos(np.radians(rotation)), 0],\n",
    "        [0, 0, 1]\n",
    "    ])\n",
    "\n",
    "    # Create the translation matrices\n",
    "    translation_matrix_to_origin = np.array([\n",
    "        [1, 0, -center_x],\n",
    "        [0, 1, -center_y],\n",
    "        [0, 0, 1]\n",
    "    ])\n",
    "    translation_matrix_back = np.array([\n",
    "        [1, 0, pixel_width / 2],\n",
    "        [0, 1, pixel_height / 2],\n",
    "        [0, 0, 1]\n",
    "    ])\n",
    "    \n",
    "    # Calculate the affine matrix\n",
    "    affine_matrix = np.dot(rotation_matrix, translation_matrix_to_origin)\n",
    "    affine_matrix = np.dot(affine_matrix, translation_matrix_back)\n",
    "    # print(affine_matrix.dtype)\n",
    "    # print(affine_matrix)\n",
    "\n",
    "    rotated = cv2.warpPerspective(\n",
    "        image, affine_matrix, (int(pixel_width), int(pixel_height)))\n",
    "\n",
    "\n",
    "    # Display the subimage\n",
    "    print(rotated.shape)\n",
    "    plt.imshow(cv2.cvtColor(rotated, cv2.COLOR_BGR2RGB))\n",
    "    plt.show()\n",
    "    plt.imshow(cv2.cvtColor(rotated, cv2.COLOR_BGR2GRAY), cmap='gray')\n",
    "    plt.axis('off')\n",
    "    plt.show()"
   ]
  },
  {
   "cell_type": "markdown",
   "metadata": {},
   "source": [
    "Test on some train samples"
   ]
  },
  {
   "cell_type": "code",
   "execution_count": null,
   "metadata": {},
   "outputs": [],
   "source": [
    "file = pd.read_csv('train_annotations.csv', keep_default_na=False)\n",
    "for index, row in file.iterrows():\n",
    "    image_path = row['image'].split('_')[0] +'/'+ row['image']\n",
    "    image = cv2.imread(image_path)\n",
    "    if image is None:\n",
    "        continue\n",
    "    get_sub_image(image, row['x'], row['y'], row['width'], row['height'], row['rotation'])\n",
    "    if index == 5:\n",
    "        break"
   ]
  }
 ],
 "metadata": {
  "kernelspec": {
   "display_name": "Python 3",
   "language": "python",
   "name": "python3"
  },
  "language_info": {
   "codemirror_mode": {
    "name": "ipython",
    "version": 3
   },
   "file_extension": ".py",
   "mimetype": "text/x-python",
   "name": "python",
   "nbconvert_exporter": "python",
   "pygments_lexer": "ipython3",
   "version": "3.11.4"
  }
 },
 "nbformat": 4,
 "nbformat_minor": 2
}
